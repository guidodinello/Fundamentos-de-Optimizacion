{
  "nbformat": 4,
  "nbformat_minor": 0,
  "metadata": {
    "colab": {
      "provenance": []
    },
    "kernelspec": {
      "name": "python3",
      "display_name": "Python 3"
    },
    "language_info": {
      "name": "python"
    }
  },
  "cells": [
    {
      "cell_type": "code",
      "execution_count": 25,
      "metadata": {
        "id": "P2zQftruRRZX"
      },
      "outputs": [],
      "source": [
        "import numpy as np\n",
        "import numpy.linalg as la\n",
        "import numpy.random as rnd\n",
        "import matplotlib.pyplot as plt\n",
        "import scipy\n",
        "import networkx as nx"
      ]
    },
    {
      "cell_type": "code",
      "source": [
        "# hay que setear tambien esta seed porque networkx la utiliza\n",
        "# https://networkx.org/documentation/stable/reference/randomness.html\n",
        "import random\n",
        "random.seed(2023)\n",
        "\n",
        "# Generamos una matriz A\n",
        "rnd.seed(2023)\n",
        "\n",
        "nt = [100, 100]\n",
        "p = [[0.5, 0.2],[0.2, 0.5]]\n",
        "n = np.sum(nt)\n",
        "d=2\n",
        "\n",
        "g = nx.stochastic_block_model(nt,p)\n",
        "A = nx.to_numpy_array(g)\n",
        "\n",
        "def resolver_con_svd(A, d):\n",
        "    UA, SA, VAt = scipy.linalg.svd(A)\n",
        "    XA = UA[:,0:d].dot(np.diag(np.sqrt(SA[0:d])))\n",
        "    return XA\n",
        "\n",
        "def f(X):\n",
        "  return la.norm((A - X@X.T),ord='fro')**2"
      ],
      "metadata": {
        "id": "ssW5KKTWrCLC"
      },
      "execution_count": 26,
      "outputs": []
    },
    {
      "cell_type": "code",
      "source": [
        "X_svd = resolver_con_svd(A,d)\n",
        "print('f(X_svd) = ',f(X_svd))"
      ],
      "metadata": {
        "id": "rTykJNk_hJ4j",
        "outputId": "dbd7c616-f38b-48e3-ce42-7b2bedc794f9",
        "colab": {
          "base_uri": "https://localhost:8080/"
        }
      },
      "execution_count": 27,
      "outputs": [
        {
          "output_type": "stream",
          "name": "stdout",
          "text": [
            "f(X_svd) =  8045.311152055572\n"
          ]
        }
      ]
    },
    {
      "cell_type": "code",
      "source": [
        "# Generar una matriz aleatoria\n",
        "C = rnd.rand(d, d)\n",
        "# Obtener la descomposición QR de la matriz\n",
        "Q, R = np.linalg.qr(C)\n",
        "\n",
        "XC = X_svd @ Q\n",
        "\n",
        "# Sustituyendo XC en la función f(X) tenemos que\n",
        "print('f(XC) = ',f(XC))\n",
        "print('f(X_svd) = ',f(X_svd))\n",
        "\n",
        "# Verificamos que sean 2 soluciones distintas\n",
        "assert not np.array_equal(XC,X_svd)"
      ],
      "metadata": {
        "id": "0GygGDjnF0Yn",
        "colab": {
          "base_uri": "https://localhost:8080/"
        },
        "outputId": "6d205f88-3944-4b8c-b924-daf1e7dd5e78"
      },
      "execution_count": 28,
      "outputs": [
        {
          "output_type": "stream",
          "name": "stdout",
          "text": [
            "f(XC) =  8045.311152055572\n",
            "f(X_svd) =  8045.311152055572\n"
          ]
        }
      ]
    },
    {
      "cell_type": "code",
      "source": [
        "def chequear_convexidad(X1, X2, alpha=0.5):\n",
        "    # Valor de la función objetivo para X1, X2 y su combinación convexa\n",
        "    f_X1 = f(X1)\n",
        "    f_X2 = f(X2)\n",
        "    f_comb = f(alpha * X1 + (1 - alpha) * X2)\n",
        "    print(f\"{f_comb} <= {alpha * f_X1 + (1 - alpha) * f_X2}\")\n",
        "\n",
        "    # Comprobación de convexidad\n",
        "    if f_comb > alpha * f_X1 + (1 - alpha) * f_X2:\n",
        "        print(\"La función objetivo no es convexa.\")\n",
        "    else:\n",
        "        print(\"La función objetivo es convexa.\")\n",
        "\n",
        "chequear_convexidad(X_svd, XC)"
      ],
      "metadata": {
        "id": "Y9BwIcnxfsAa",
        "colab": {
          "base_uri": "https://localhost:8080/"
        },
        "outputId": "42f8ca42-0680-4b48-c573-a42a93f706eb"
      },
      "execution_count": 6,
      "outputs": [
        {
          "output_type": "stream",
          "name": "stdout",
          "text": [
            "11612.797719750053 <= 8045.311152055572\n",
            "La función objetivo no es convexa.\n"
          ]
        }
      ]
    },
    {
      "cell_type": "code",
      "source": [
        "def grad_f(X):\n",
        "    return 4*(-A+X@X.T)@X\n",
        "\n",
        "def grad_numerico(X):\n",
        "    eps = 1e-7\n",
        "    grad = np.zeros(X.shape)\n",
        "\n",
        "    for i in range(X.shape[0]):\n",
        "        for j in range(X.shape[1]):\n",
        "            h = np.zeros(X.shape)\n",
        "            h[i,j] = eps\n",
        "            grad[i,j] = (f(X+h) - f(X))/eps\n",
        "    return grad\n",
        "\n",
        "# Matriz X inicial\n",
        "X_initial = rnd.rand(*X_svd.shape)\n",
        "\n",
        "# Calcular el gradiente analítico\n",
        "grad_analytical = grad_f(X_initial)\n",
        "\n",
        "# Calcular el gradiente numérico\n",
        "grad_numerical = grad_numerico(X_initial)\n",
        "\n",
        "# Comparar los resultados\n",
        "print(la.norm(grad_analytical - grad_numerical))"
      ],
      "metadata": {
        "id": "y7idSpphfsY-",
        "colab": {
          "base_uri": "https://localhost:8080/"
        },
        "outputId": "12f79062-eeb9-4509-ac72-745a4b46663a"
      },
      "execution_count": 29,
      "outputs": [
        {
          "output_type": "stream",
          "name": "stdout",
          "text": [
            "0.00038837619930289066\n"
          ]
        }
      ]
    },
    {
      "cell_type": "code",
      "source": [
        "print(la.norm(grad_analytical))\n",
        "print(la.norm(grad_numerical))"
      ],
      "metadata": {
        "colab": {
          "base_uri": "https://localhost:8080/"
        },
        "id": "ZGPOY4fNhBae",
        "outputId": "2da52a15-c826-4e9b-a3ed-5b9e18fb48f5"
      },
      "execution_count": 30,
      "outputs": [
        {
          "output_type": "stream",
          "name": "stdout",
          "text": [
            "2539.6835297098855\n",
            "2539.6837159997767\n"
          ]
        }
      ]
    },
    {
      "cell_type": "code",
      "source": [
        "T = grad_analytical # experimental\n",
        "E = grad_numerical # teorico\n",
        "porcentaje_de_error = (la.norm(E - T) / la.norm(T) )*100\n",
        "porcentaje_de_error"
      ],
      "metadata": {
        "colab": {
          "base_uri": "https://localhost:8080/"
        },
        "id": "Nw4KQC2shFFU",
        "outputId": "dbb5ae75-9ba6-47e6-a517-5a857c7e0671"
      },
      "execution_count": 31,
      "outputs": [
        {
          "output_type": "execute_result",
          "data": {
            "text/plain": [
              "1.5292306886254282e-05"
            ]
          },
          "metadata": {},
          "execution_count": 31
        }
      ]
    },
    {
      "cell_type": "code",
      "source": [
        "def nesterov_gradient_descent(grad, x_init, alpha, tol=1e-5):\n",
        "    x, y = x_init.copy(), x_init.copy()\n",
        "    it = 0\n",
        "\n",
        "    # Iterar hasta que la norma del gradiente sea menor a la tolerancia establecida\n",
        "    while np.linalg.norm(grad(y)) > tol:\n",
        "        # Actualizar iterates\n",
        "        x_next = y - alpha * grad(y)\n",
        "        y_next = x_next + (it / (it + 3)) * (x_next - x)\n",
        "\n",
        "        # Guardar valores\n",
        "        x, y = x_next, y_next\n",
        "        # Incrementar contador de iteraciones\n",
        "        it += 1\n",
        "\n",
        "    return x, it\n",
        "\n",
        "X_initial = np.random.rand(n,d)\n",
        "x, it = nesterov_gradient_descent(grad_f, X_initial, 1e-3)\n",
        "print('Número de iteraciones: ', it)\n",
        "print('f(X) = ', f(x))"
      ],
      "metadata": {
        "id": "oVmFmEo0fss5",
        "colab": {
          "base_uri": "https://localhost:8080/"
        },
        "outputId": "79a2a124-38e3-446d-d49f-89c43d31c7a2"
      },
      "execution_count": 32,
      "outputs": [
        {
          "output_type": "stream",
          "name": "stdout",
          "text": [
            "Número de iteraciones:  293\n",
            "f(X) =  8045.311152055578\n"
          ]
        }
      ]
    },
    {
      "cell_type": "code",
      "source": [
        "la.norm(X_svd - X_initial)"
      ],
      "metadata": {
        "colab": {
          "base_uri": "https://localhost:8080/"
        },
        "id": "YHX1XTpUlD_G",
        "outputId": "1475a700-6434-4153-a4d0-cbf6f805a799"
      },
      "execution_count": 35,
      "outputs": [
        {
          "output_type": "execute_result",
          "data": {
            "text/plain": [
              "19.046714670949797"
            ]
          },
          "metadata": {},
          "execution_count": 35
        }
      ]
    },
    {
      "cell_type": "code",
      "source": [
        "la.norm(X_svd - x)"
      ],
      "metadata": {
        "colab": {
          "base_uri": "https://localhost:8080/"
        },
        "id": "XTx-3jwRkHSG",
        "outputId": "c848fc91-b293-4c52-9fc7-24c6bbdbcac2"
      },
      "execution_count": 22,
      "outputs": [
        {
          "output_type": "execute_result",
          "data": {
            "text/plain": [
              "18.34453082451886"
            ]
          },
          "metadata": {},
          "execution_count": 22
        }
      ]
    },
    {
      "cell_type": "code",
      "source": [
        "la.norm(f(X_svd) - f(x))"
      ],
      "metadata": {
        "colab": {
          "base_uri": "https://localhost:8080/"
        },
        "id": "MoVsDeJ3kg7A",
        "outputId": "ebb59044-3da3-495c-9fc3-e3d26824c370"
      },
      "execution_count": 23,
      "outputs": [
        {
          "output_type": "execute_result",
          "data": {
            "text/plain": [
              "5.4569682106375694e-12"
            ]
          },
          "metadata": {},
          "execution_count": 23
        }
      ]
    }
  ]
}